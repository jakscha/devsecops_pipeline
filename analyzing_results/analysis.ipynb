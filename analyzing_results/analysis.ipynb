{
 "cells": [
  {
   "cell_type": "code",
   "id": "initial_id",
   "metadata": {
    "collapsed": true,
    "ExecuteTime": {
     "end_time": "2024-08-18T19:43:06.656377Z",
     "start_time": "2024-08-18T19:43:06.654336Z"
    }
   },
   "source": [
    "# Imports\n",
    "import csv\n",
    "import json"
   ],
   "outputs": [],
   "execution_count": 27
  },
  {
   "metadata": {
    "ExecuteTime": {
     "end_time": "2024-08-18T19:43:07.776517Z",
     "start_time": "2024-08-18T19:43:07.770258Z"
    }
   },
   "cell_type": "code",
   "source": [
    "# Reading Data from expected results\n",
    "with open('expectedresults-1.2.csv', mode='r') as file:\n",
    "    reader = csv.DictReader(file)\n",
    "    ex_results = [row for row in reader]\n",
    "print(ex_results[0])"
   ],
   "id": "8eb473c32ba2d690",
   "outputs": [
    {
     "name": "stdout",
     "output_type": "stream",
     "text": [
      "{'test_id': 'BenchmarkTest00001', 'category': 'pathtraver', 'real_vulnerability': 'true', 'cwe': '22'}\n"
     ]
    }
   ],
   "execution_count": 28
  },
  {
   "metadata": {
    "ExecuteTime": {
     "end_time": "2024-08-18T19:44:30.735301Z",
     "start_time": "2024-08-18T19:44:30.728339Z"
    }
   },
   "cell_type": "code",
   "source": [
    "# Getting Categories \n",
    "def get_number_testcases_category():\n",
    "    categories = {}\n",
    "    for result in ex_results:\n",
    "        if result['category'] in categories:\n",
    "            categories[result['category']] += 1\n",
    "        else:\n",
    "            categories[result['category']] = 1\n",
    "    \n",
    "    for category in categories:\n",
    "        print(f'Category: {category}, count: {categories[category]}, percentage: {categories[category] / len(ex_results) * 100}')\n",
    "    print('\\n')\n",
    "    return categories\n",
    "        \n",
    "def get_number_vulnerabilities_category():\n",
    "    categories = {}\n",
    "    number_of_vulnerabilities = 0\n",
    "    for result in ex_results:\n",
    "        if result['category'] in categories:\n",
    "            if result['real_vulnerability'] == 'true':\n",
    "                categories[result['category']] += 1\n",
    "        else:\n",
    "            if result['real_vulnerability'] == 'true':\n",
    "                categories[result['category']] = 1\n",
    "        if result['real_vulnerability'] == 'true':\n",
    "            number_of_vulnerabilities += 1\n",
    "    \n",
    "    for category in categories:\n",
    "        print(f'Category: {category}, count: {categories[category]}, percentage: {categories[category] / number_of_vulnerabilities * 100}')\n",
    "    print('\\n')\n",
    "    return categories\n",
    "\n",
    "get_number_testcases_category()\n",
    "get_number_vulnerabilities_category()\n",
    "        "
   ],
   "id": "ca6c7593e2fe45e6",
   "outputs": [
    {
     "name": "stdout",
     "output_type": "stream",
     "text": [
      "Category: pathtraver, count: 268, percentage: 9.781021897810218\n",
      "Category: hash, count: 236, percentage: 8.613138686131387\n",
      "Category: trustbound, count: 126, percentage: 4.598540145985401\n",
      "Category: crypto, count: 246, percentage: 8.978102189781021\n",
      "Category: cmdi, count: 251, percentage: 9.16058394160584\n",
      "Category: sqli, count: 504, percentage: 18.394160583941606\n",
      "Category: weakrand, count: 493, percentage: 17.99270072992701\n",
      "Category: ldapi, count: 59, percentage: 2.153284671532847\n",
      "Category: xss, count: 455, percentage: 16.605839416058394\n",
      "Category: securecookie, count: 67, percentage: 2.4452554744525545\n",
      "Category: xpathi, count: 35, percentage: 1.2773722627737227\n",
      "\n",
      "\n",
      "Category: pathtraver, count: 133, percentage: 9.39929328621908\n",
      "Category: hash, count: 129, percentage: 9.11660777385159\n",
      "Category: trustbound, count: 83, percentage: 5.865724381625442\n",
      "Category: crypto, count: 130, percentage: 9.187279151943462\n",
      "Category: cmdi, count: 126, percentage: 8.904593639575973\n",
      "Category: sqli, count: 272, percentage: 19.2226148409894\n",
      "Category: ldapi, count: 27, percentage: 1.9081272084805656\n",
      "Category: xss, count: 246, percentage: 17.385159010600706\n",
      "Category: weakrand, count: 218, percentage: 15.406360424028268\n",
      "Category: securecookie, count: 36, percentage: 2.544169611307421\n",
      "Category: xpathi, count: 15, percentage: 1.0600706713780919\n",
      "\n",
      "\n"
     ]
    },
    {
     "data": {
      "text/plain": [
       "{'pathtraver': 133,\n",
       " 'hash': 129,\n",
       " 'trustbound': 83,\n",
       " 'crypto': 130,\n",
       " 'cmdi': 126,\n",
       " 'sqli': 272,\n",
       " 'ldapi': 27,\n",
       " 'xss': 246,\n",
       " 'weakrand': 218,\n",
       " 'securecookie': 36,\n",
       " 'xpathi': 15}"
      ]
     },
     "execution_count": 34,
     "metadata": {},
     "output_type": "execute_result"
    }
   ],
   "execution_count": 34
  },
  {
   "metadata": {
    "ExecuteTime": {
     "end_time": "2024-08-18T15:45:06.757172Z",
     "start_time": "2024-08-18T15:45:06.754721Z"
    }
   },
   "cell_type": "code",
   "source": [
    "# Load results form scanning tools\n",
    "# with open('results/bearer.json', 'w') as file:\n",
    "#     bearer = json.load(file)\n",
    "# with open('results/nuclei.json', 'w') as file:\n",
    "#     nuclei = json.load(file)\n",
    "# with open('results/snyk.json', 'w') as file:\n",
    "#     snyk = json.load(file)\n",
    "# with open('results/trivy.json', 'w') as file:\n",
    "#     trivy = json.load(file)\n",
    "# with open('results/zap.json', 'w') as file:\n",
    "#     zap = json.load(file)"
   ],
   "id": "c32d486ddd150e67",
   "outputs": [],
   "execution_count": 4
  },
  {
   "metadata": {
    "ExecuteTime": {
     "end_time": "2024-08-18T16:40:16.590958Z",
     "start_time": "2024-08-18T16:40:16.586496Z"
    }
   },
   "cell_type": "code",
   "source": [
    "# Analyzing List\n",
    "\n",
    "def passed_testcases(tool, tool_name):\n",
    "    \n",
    "    passes = 0\n",
    "    # Passes by category\n",
    "    tool_categories = {\n",
    "        'pathtraver': 0,\n",
    "        'hash': 0,\n",
    "        'trustbound': 0,\n",
    "        'crypto': 0,\n",
    "        'cmdi': 0,\n",
    "        'sqli': 0,\n",
    "        'weakrand': 0,\n",
    "        'ldapi': 0,\n",
    "        'xss': 0,\n",
    "        'securecookie': 0,\n",
    "        'xpathi': 0\n",
    "    }\n",
    "    \n",
    "    for result in tool:\n",
    "        if result['pass/fail'] == 'pass':\n",
    "            passes += 1\n",
    "            tool_categories[result['category']] += 1\n",
    "            \n",
    "    \n",
    "    \n",
    "    \n",
    "    print(f'Printing passed Testcases for {tool_name}:')\n",
    "    for category in tool_categories:\n",
    "        print(f'Category: {category}, count: {tool_categories[category]}, percentage: {tool_categories[category] / categories[category] * 100}')\n",
    "    \n",
    "    \n",
    "    # Printing results\n",
    "    print(f'Total passed testcases: {passes}, percentage: {passes / len(tool) * 100}\\n\\n\\n')\n",
    "    \n",
    "def detected_vulnerabilities(tool, tool_name):\n",
    "    \n",
    "    number_of_vulnerabilities = 0\n",
    "    number_of_detected_vulnerabilities = 0\n",
    "      # Passes by category\n",
    "    categories = {\n",
    "        'pathtraver': 0,\n",
    "        'hash': 0,\n",
    "        'trustbound': 0,\n",
    "        'crypto': 0,\n",
    "        'cmdi': 0,\n",
    "        'sqli': 0,\n",
    "        'weakrand': 0,\n",
    "        'ldapi': 0,\n",
    "        'xss': 0,\n",
    "        'securecookie': 0,\n",
    "        'xpathi': 0\n",
    "    }\n",
    "  \n",
    "    for result in tool:\n",
    "        if result['realvulnerability'] == 'true' and result['pass/fail'] == 'pass':\n",
    "            number_of_vulnerabilities += 1\n",
    "            number_of_detected_vulnerabilities += 1\n",
    "            categories[result['category']] += 1\n",
    "        elif result['realvulnerability'] == 'true':\n",
    "            number_of_vulnerabilities += 1\n",
    "            \n",
    "  \n",
    "    \n",
    "    for result in tool:\n",
    "        if result['pass/fail'] == 'pass':\n",
    "            tool_categories[result['category']] += 1\n",
    "    \n",
    "    \n",
    "    print(f'Printing passed Testcases for {tool_name}:')\n",
    "    for category in tool_categories:\n",
    "        print(f'Category: {category}, count: {tool_categories[category]}, percentage: {tool_categories[category] / categories[category] * 100}')\n",
    "    \n",
    "    \n",
    "    # Printing results\n",
    "    print(f'Total detected vulnerabilites: {passes}, percentage: {passes / len(tool) * 100}\\n\\n\\n')"
   ],
   "id": "cf4ad53329cd75fc",
   "outputs": [],
   "execution_count": 18
  },
  {
   "metadata": {
    "ExecuteTime": {
     "end_time": "2024-08-18T16:40:18.630120Z",
     "start_time": "2024-08-18T16:40:18.620281Z"
    }
   },
   "cell_type": "code",
   "source": [
    "# Analyzing ZAP\n",
    "with open('results/zap_result.csv', mode='r') as file:\n",
    "        reader = csv.DictReader(file)\n",
    "        tool = [row for row in reader]\n",
    "\n",
    "passed_testcases(tool, 'ZAP')"
   ],
   "id": "4e936fa1fd6c7347",
   "outputs": [
    {
     "name": "stdout",
     "output_type": "stream",
     "text": [
      "Printing Results for ZAP:\n",
      "Category: pathtraver, count: 135, percentage: 50.373134328358205\n",
      "Category: hash, count: 107, percentage: 45.33898305084746\n",
      "Category: trustbound, count: 43, percentage: 34.12698412698413\n",
      "Category: crypto, count: 116, percentage: 47.15447154471545\n",
      "Category: cmdi, count: 125, percentage: 49.800796812749006\n",
      "Category: sqli, count: 232, percentage: 46.03174603174603\n",
      "Category: weakrand, count: 275, percentage: 55.78093306288032\n",
      "Category: ldapi, count: 32, percentage: 54.23728813559322\n",
      "Category: xss, count: 209, percentage: 45.934065934065934\n",
      "Category: securecookie, count: 31, percentage: 46.26865671641791\n",
      "Category: xpathi, count: 20, percentage: 57.14285714285714\n",
      "Total passed testcases: 1325, percentage: 48.35766423357664\n",
      "\n",
      "\n",
      "\n"
     ]
    }
   ],
   "execution_count": 19
  },
  {
   "metadata": {
    "ExecuteTime": {
     "end_time": "2024-08-18T16:40:34.911960Z",
     "start_time": "2024-08-18T16:40:34.707631Z"
    }
   },
   "cell_type": "code",
   "source": [
    "# Analyzing Bearer\n",
    "with open('results/bearer_result.csv', mode='r') as file:\n",
    "        reader = csv.DictReader(file)\n",
    "        bearer_result = [row for row in reader]\n",
    "    \n",
    "with open('results/bearer.json', mode='r') as file:\n",
    "    raw_result = json.load(file)\n",
    "\n",
    "        \n",
    "def test_if_scan_hits(key):\n",
    "    for finding in raw_result[key]:\n",
    "        for testcase in bearer_result:\n",
    "            if testcase['testname'] in finding['full_filename']:\n",
    "                if testcase['realvulnerability'] == 'true':\n",
    "                    testcase['pass/fail'] = 'pass'\n",
    "                else:\n",
    "                    testcase['pass/fail'] = 'fail'\n",
    "                break\n",
    "\n",
    "\n",
    "if 'critical' in raw_result:\n",
    "    test_if_scan_hits('critical')\n",
    "if 'high' in raw_result:\n",
    "    test_if_scan_hits('high')\n",
    "if 'medium' in raw_result:\n",
    "    test_if_scan_hits('medium')\n",
    "if 'low' in raw_result:\n",
    "    test_if_scan_hits('low')\n",
    "    \n",
    "passed_testcases(bearer_result, 'Bearer')"
   ],
   "id": "44a125798a738514",
   "outputs": [
    {
     "name": "stdout",
     "output_type": "stream",
     "text": [
      "Printing Results for Bearer:\n",
      "Category: pathtraver, count: 151, percentage: 56.343283582089555\n",
      "Category: hash, count: 186, percentage: 78.8135593220339\n",
      "Category: trustbound, count: 81, percentage: 64.28571428571429\n",
      "Category: crypto, count: 209, percentage: 84.95934959349594\n",
      "Category: cmdi, count: 146, percentage: 58.16733067729084\n",
      "Category: sqli, count: 278, percentage: 55.158730158730165\n",
      "Category: weakrand, count: 218, percentage: 44.21906693711968\n",
      "Category: ldapi, count: 35, percentage: 59.32203389830508\n",
      "Category: xss, count: 257, percentage: 56.48351648351648\n",
      "Category: securecookie, count: 67, percentage: 100.0\n",
      "Category: xpathi, count: 19, percentage: 54.285714285714285\n",
      "Total passed testcases: 1647, percentage: 60.10948905109489\n",
      "\n",
      "\n",
      "\n"
     ]
    }
   ],
   "execution_count": 21
  },
  {
   "metadata": {},
   "cell_type": "code",
   "outputs": [],
   "execution_count": null,
   "source": "# Alle",
   "id": "322bb723c67d609"
  }
 ],
 "metadata": {
  "kernelspec": {
   "display_name": "Python 3",
   "language": "python",
   "name": "python3"
  },
  "language_info": {
   "codemirror_mode": {
    "name": "ipython",
    "version": 2
   },
   "file_extension": ".py",
   "mimetype": "text/x-python",
   "name": "python",
   "nbconvert_exporter": "python",
   "pygments_lexer": "ipython2",
   "version": "2.7.6"
  }
 },
 "nbformat": 4,
 "nbformat_minor": 5
}
